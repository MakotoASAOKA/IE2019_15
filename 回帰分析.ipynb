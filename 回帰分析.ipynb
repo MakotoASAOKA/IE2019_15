{
 "cells": [
  {
   "cell_type": "code",
   "execution_count": 5,
   "metadata": {},
   "outputs": [],
   "source": [
    "#データを読み込む\n",
    "dat <- read.csv(file=\"pokemon.csv\", header=TRUE, sep=\",\",fileEncoding=\"Shift-JIS\")\t#ポケモンデータの読み込み\n",
    "dat\t\t\t\t\t\t\t\t\t\t\t\t\t\t\t\t\t\t\t\t\t#ポケモンデータの表示\n",
    "dat[25,]\t\t\t\t\t\t\t\t\t\t\t\t\t\t\t\t\t\t\t#25番目のポケモンデータの表示\n",
    "summary(dat$重さ.kg.)\t\t\t\t\t\t\t\t\t\t\t\t\t\t\t\t#重さの基礎統計を表示\n",
    "hist(dat$重さ.kg., breaks = 100 )\t\t\t\t\t\t\t\t\t\t\t\t\t#重さのヒストグラムを表示"
   ]
  },
  {
   "cell_type": "code",
   "execution_count": 6,
   "metadata": {},
   "outputs": [],
   "source": [
    "#分析に必要なデータのみ扱う\n",
    "dat1 <-dat[,4:12]\t\t\t\t#4番目のHP～12番目の重さデータのみ抽出\n",
    "plot(dat1)\t\t\t\t\t\t#フィルタリングしたデータ間の関係性を散布図でプロット\n",
    "cor(dat1)\t\t\t\t\t\t#フィルタリングしたデータ間の相関係数を計算\n",
    "filter <- dat1$重さ.kg. < 300\t#重さ300以下のポケモンをセレクト　\n",
    "dat2 <- dat1[filter, ]\t\t\t#セレクトしたデータのみ抽出"
   ]
  },
  {
   "cell_type": "code",
   "execution_count": 7,
   "metadata": {},
   "outputs": [],
   "source": [
    "#フィルタリングしたデータの確認\n",
    "dat2\t\t\t\t\t\t\t#フィルタリングしたデータを表示\n",
    "plot(dat2) \t\t\t\t\t\t#フィルタリングしたデータ間の関係性を散布図でプロット\n",
    "cor(dat2)\t\t\t\t\t\t#フィルタリングしたデータ間の相関係数を計算"
   ]
  },
  {
   "cell_type": "code",
   "execution_count": 8,
   "metadata": {},
   "outputs": [],
   "source": [
    "#回帰分析の実行\n",
    "kaiki<- lm(重さ.kg.~HP+こうげき+ぼうぎょ+すばやさ+とくこう+とくぼう, data=dat2)\t\t#lm関数を使って回帰分析\n",
    "zdat <- scale(dat2)\t\t\t\t\t\t\t\t\t\t\t\t\t\t\t\t\t#dat2を標準化\n",
    "zdat <- data.frame(zdat)\t\t\t\t\t\t\t\t\t\t\t\t\t\t\t#回帰分析できるように型変換（おまじない）\n",
    "zkaiki<- lm(重さ.kg.~HP+こうげき+ぼうぎょ+すばやさ+とくこう+とくぼう, data=zdat)\t#標準化したデータを使って回帰分析\n",
    "\n",
    "#回帰分析した結果を出力\n",
    "summary(kaiki)\t\t\t\t\t\t\t\t\t\t\t\t\t\t\t\t\t\t#偏回帰係数を出力\n",
    "summary(zkaiki)\t\t\t\t\t\t\t\t\t\t\t\t\t\t\t\t\t\t#標準化偏回帰係数を出力"
   ]
  },
  {
   "cell_type": "code",
   "execution_count": null,
   "metadata": {},
   "outputs": [],
   "source": []
  }
 ],
 "metadata": {
  "kernelspec": {
   "display_name": "R",
   "language": "R",
   "name": "ir"
  },
  "language_info": {
   "codemirror_mode": "r",
   "file_extension": ".r",
   "mimetype": "text/x-r-source",
   "name": "R",
   "pygments_lexer": "r",
   "version": "3.5.1"
  }
 },
 "nbformat": 4,
 "nbformat_minor": 2
}
